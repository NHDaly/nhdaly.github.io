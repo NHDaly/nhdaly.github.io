{
 "cells": [
  {
   "cell_type": "markdown",
   "metadata": {},
   "source": [
    "# Writing a simple SQL interpreter in Julia\n",
    "\n",
    "So I've felt for a while that databases and SQL were somewhat of a weak spot in my CS knowledge. I've never taken a databases class, nor really read much about them. Though a few years' on-the-job exposure did help some (I could, like, put together a query to get some data), it just didn't feel _intuitive_. I used to say things like, \"but what does this `join` really _meannn_??? Like, what's it actually _doing!?_\"\n",
    "\n",
    "So I took the Khan Academy [\"Intro to SQL\"](https://www.khanacademy.org/computing/computer-programming/sql) course over the weekend, and it was super helpful! I'd highly recommend it to anyone who felt like me. Cause it turns out, hey, a `join` is really simple! All it's doing is basically computing the Cartesian Product of your two tables, and then filtering out rows based on how you specified the query. No big deal.\n",
    "\n",
    "----\n",
    "\n",
    "So then, of course, armed with my new knowledge, I couldn't resist trying to implement it all myself. And man, things like this are just so _fun_ in julia!\n",
    "\n",
    "\n",
    "So here's the result! I thought it would be fun to paste this up on the web just because it's a cool example of building a domain-specific-language within julia through its super expressive metaprogramming.\n"
   ]
  },
  {
   "cell_type": "markdown",
   "metadata": {},
   "source": [
    "The code is all here, in this github repo, in a package called `SimpleSQL`:\n",
    "https://github.com/NHDaly/SimpleSQL.jl\n",
    "<br>It all fits in just this one file: [src/SimpleSQL.jl](https://github.com/NHDaly/SimpleSQL.jl/blob/master/src/SimpleSQL.jl)"
   ]
  },
  {
   "cell_type": "markdown",
   "metadata": {},
   "source": [
    "So before I give any more details... _Look, it's just like SQL!:_"
   ]
  },
  {
   "cell_type": "code",
   "execution_count": 1,
   "metadata": {},
   "outputs": [],
   "source": [
    "using SimpleSQL"
   ]
  },
  {
   "cell_type": "code",
   "execution_count": 2,
   "metadata": {},
   "outputs": [
    {
     "data": {
      "text/plain": [
       "id |                name | quantity | aisle\n",
       "---|---------------------|----------|------\n",
       " 1 |             Bananas |       34 |     7\n",
       " 2 |       Peanut Butter |        1 |     2\n",
       " 3 | Dark Chocolate Bars |        2 |     2\n",
       " 4 |           Ice cream |        1 |    12\n",
       " 5 |            Cherries |        6 |     2\n",
       " 6 |     Chocolate syrup |        1 |     4\n"
      ]
     },
     "execution_count": 2,
     "metadata": {},
     "output_type": "execute_result"
    }
   ],
   "source": [
    "@CREATE @TABLE groceries (:id, Int), (:name, String), (:quantity, Int), (:aisle, Int)\n",
    "@INSERT @INTO groceries @VALUES (1, \"Bananas\", 34, 7);\n",
    "@INSERT @INTO groceries @VALUES (2, \"Peanut Butter\", 1, 2);\n",
    "@INSERT @INTO groceries @VALUES (3, \"Dark Chocolate Bars\", 2, 2);\n",
    "@INSERT @INTO groceries @VALUES (4, \"Ice cream\", 1, 12);\n",
    "@INSERT @INTO groceries @VALUES (5, \"Cherries\", 6, 2);\n",
    "@INSERT @INTO groceries @VALUES (6, \"Chocolate syrup\", 1, 4);\n",
    "@SELECT (*) @FROM groceries"
   ]
  },
  {
   "cell_type": "code",
   "execution_count": 3,
   "metadata": {},
   "outputs": [
    {
     "data": {
      "text/plain": [
       "               name | aisle | quantity\n",
       "--------------------|-------|---------\n",
       "            Bananas |     7 |       34\n",
       "Dark Chocolate Bars |     2 |        2\n",
       "           Cherries |     2 |        6\n"
      ]
     },
     "execution_count": 3,
     "metadata": {},
     "output_type": "execute_result"
    }
   ],
   "source": [
    "@SELECT name, aisle, quantity @FROM groceries @WHERE quantity .> 1"
   ]
  },
  {
   "cell_type": "code",
   "execution_count": 4,
   "metadata": {},
   "outputs": [
    {
     "data": {
      "text/plain": [
       "aisle | length(aisle) | sum(quantity)\n",
       "------|---------------|--------------\n",
       "    2 |             3 |             9\n",
       "    4 |             1 |             1\n"
      ]
     },
     "execution_count": 4,
     "metadata": {},
     "output_type": "execute_result"
    }
   ],
   "source": [
    "# How many unique things and total things do I have in each of the first 5 aisles in the store?\n",
    "@SELECT aisle, length(aisle), sum(quantity) @FROM groceries @WHERE aisle .<= 5 @GROUP @BY aisle"
   ]
  },
  {
   "cell_type": "markdown",
   "metadata": {},
   "source": [
    "Cool, right??\n",
    "\n",
    "So yeah! In order to try to get a better sense of what SQL is doing, I built a small SQL emulator within julia. You can build up tables in memory, and then load and save them to disk. I only implemented a few of the basic commands, `CREATE TABLE`, `INSERT`, `SELECT FROM`, `GROUP BY`, and `WHERE`, but it was still a nice way to get a better sense for how these commands work.\n",
    "\n",
    "My implementation basically boils down to keeping a tuple of column-vectors for each table, and all the query operations are just manipulating those vectors.\n",
    "\n",
    "`SELECT` just gets the matching column by header-name from the table. If the select query is a julia _expression_ instead of a name, though, that expression is _evaluated_ with the column name replaced with the column value! More on that later...\n",
    "\n",
    "`WHERE` creates a filtered copy of the vector, which is used for the rest of the query.\n",
    "\n",
    "`GROUP BY` goes through a vector, and creates a new vector of indices (e.g. `[\"a\", \"b\", \"a\"] => [1,2,1]`), which is then used to split every _other_ column vector into a bunch of row-vectors:\n",
    "```julia\n",
    "[5, 10, 2] => [[5 2],  # group 1\n",
    "               [10]]    # group 2\n",
    "```\n",
    "\n",
    "Then finally the query expressions are evaluated over each of those row-columns. So if the above steps came from this query: `@SELECT sum(a) @FROM t @GROUP @BY b`, then the output column will end up as the first element in each resulting row, creating `[7,10]`. Basically, like this:\n",
    "\n",
    "```julia\n",
    "   [\n",
    "    sum([5 2])[1]   # 7\n",
    "    sum([10])[1]    # 10\n",
    "   ]\n",
    "```"
   ]
  },
  {
   "cell_type": "markdown",
   "metadata": {},
   "source": [
    "Definitely the coolest thing about this package is `eval`ing the query expressions as native julia, because you can get access to all the powerful julia functions for free!\n",
    "\n",
    "Here's another example, which showcases that a bit more:"
   ]
  },
  {
   "cell_type": "code",
   "execution_count": 5,
   "metadata": {},
   "outputs": [
    {
     "data": {
      "text/plain": [
       "solar_system_objects   32 rows\n",
       "body::String\n",
       "mean_radius::Real\n",
       "mean_radius_rel::Real\n",
       "volume::Real\n",
       "volume_rel::Real\n",
       "mass::Real\n",
       "mass_rel::Real\n",
       "density::Real\n",
       "surface_gravity::Real\n",
       "surface_gravity_rel::Real\n",
       "type_of_object::String\n",
       "shape::String\n"
      ]
     },
     "execution_count": 5,
     "metadata": {},
     "output_type": "execute_result"
    }
   ],
   "source": [
    "solar_system_objects = read_table_from_disk(\"solar_system_objects.table\")"
   ]
  },
  {
   "cell_type": "code",
   "execution_count": 6,
   "metadata": {},
   "outputs": [
    {
     "data": {
      "text/plain": [
       "     mean(density) | median(density) | round(sum(mass)) |                            type_of_object\n",
       "-------------------|-----------------|------------------|------------------------------------------\n",
       "             1.408 |           1.408 |       1988550000 |                                      star\n",
       "            1.0065 |          1.0065 |          2467060 |              planet (gas giant) has rings\n",
       "             1.454 |           1.454 |           189262 |              planet (ice giant) has rings\n",
       "          5.029375 |           5.335 |          11814.0 |                      planet (terrestrial)\n",
       "2.5778499999999998 |          2.4745 |            393.0 |                      satellite of Jupiter\n",
       "           1.33316 |           1.236 |            141.0 |                       satellite of Saturn\n",
       "            3.3464 |          3.3464 |             74.0 |                        satellite of Earth\n",
       "             2.061 |           2.061 |             22.0 |                      satellite of Neptune\n",
       "              2.03 |            2.03 |             13.0 |             dwarf planet plutino multiple\n",
       "              2.52 |            2.52 |             17.0 |                  dwarf planet @SDO binary\n",
       "           1.59775 |           1.645 |              9.0 |                       satellite of Uranus\n",
       "              2.55 |            2.55 |              4.0 | dwarf planet resoNaNt @KBO (7:12) trinary\n",
       "              1.65 |            1.65 |              2.0 |                        satellite of Pluto\n",
       "               2.2 |             2.2 |              1.0 |                           cubewano binary\n",
       "             2.077 |           2.077 |              1.0 |                dwarf planet belt asteroid\n"
      ]
     },
     "execution_count": 6,
     "metadata": {},
     "output_type": "execute_result"
    }
   ],
   "source": [
    "using Statistics  # For `mean` and `median`\n",
    "@SQL begin\n",
    "    @SELECT mean(density), median(density), round(sum(mass)), type_of_object\n",
    "    @FROM solar_system_objects\n",
    "    @WHERE (@. !isnan(mass))  # some elements are missing mass\n",
    "    @GROUP @BY type_of_object \n",
    "end"
   ]
  },
  {
   "cell_type": "markdown",
   "metadata": {},
   "source": [
    "Getting those complex expressions to work turned out to be a fun exploration of _a few_ of the different types of metaprogramming in julia.\n",
    "\n",
    "[Andy Ferris](https://github.com/andyferris) gave a really nice explanation in his workshop at JuliaCon ([\"A practical introduction to metaprogramming in Julia\"](https://youtu.be/SeqAQHKLNj4)) that julia actually does metaprogramming in lots of different ways.\n",
    "\n",
    "There's macros, sure, which is what we typically think of as metaprogramming. And this package uses macros to let you to write queries in an SQL-like structure. (The macros are all the words starting with `@`.) But metaprogramming itself is more broad: it just means _any time_ you **treat your program itself as data**. This concept comes from `lisp`, and it's central to how julia works: at runtime, julia is parsing every bit of the code you provide it into _julia_ data structures: `Expr`s, `Symbol`s and literals (ints, strings, etc), and then evaluating those structures.\n",
    "\n",
    "We can do the same thing ourselves, by creating those Expressions manually, and letting julia `eval` them! For example:"
   ]
  },
  {
   "cell_type": "code",
   "execution_count": 7,
   "metadata": {},
   "outputs": [
    {
     "data": {
      "text/plain": [
       ":(2 + 3)"
      ]
     },
     "execution_count": 7,
     "metadata": {},
     "output_type": "execute_result"
    }
   ],
   "source": [
    "x = Expr(:call, :+, 2, 3)"
   ]
  },
  {
   "cell_type": "code",
   "execution_count": 8,
   "metadata": {},
   "outputs": [
    {
     "data": {
      "text/plain": [
       "5"
      ]
     },
     "execution_count": 8,
     "metadata": {},
     "output_type": "execute_result"
    }
   ],
   "source": [
    "eval(x)"
   ]
  },
  {
   "cell_type": "code",
   "execution_count": 9,
   "metadata": {},
   "outputs": [
    {
     "data": {
      "text/plain": [
       "quote\n",
       "    #= In[9]:2 =#\n",
       "    a = [1, 2]\n",
       "    #= In[9]:2 =#\n",
       "    sum(a)\n",
       "end"
      ]
     },
     "execution_count": 9,
     "metadata": {},
     "output_type": "execute_result"
    }
   ],
   "source": [
    "e = quote\n",
    "    a = [1,2]; sum(a)\n",
    "end"
   ]
  },
  {
   "cell_type": "code",
   "execution_count": 10,
   "metadata": {},
   "outputs": [
    {
     "data": {
      "text/plain": [
       "3"
      ]
     },
     "execution_count": 10,
     "metadata": {},
     "output_type": "execute_result"
    }
   ],
   "source": [
    "eval(e)"
   ]
  },
  {
   "cell_type": "markdown",
   "metadata": {},
   "source": [
    "I used this functionality in this package to _automatically_ implement every imaginable function you could call over your data!\n",
    "\n",
    "That is, by constructing a simple `Expr` from your query and letting julia eval it, we get the _entire julia language_ as part of our SQL language implementation, for free! That is so _cool!_ So I didn't need to write a custom function for the `sum` of a column or the `length` of a column, because it's just normal julia code.\n",
    "\n",
    "Which is really amazing, because not only is it easy to implement, it also allows you to be way more expressive with your data than you could ever be in SQL.\n",
    "\n",
    "Want to know the value of `sin` for each aisle? `cos`? How about their comparisons? Why not! It's all just julia."
   ]
  },
  {
   "cell_type": "code",
   "execution_count": 11,
   "metadata": {},
   "outputs": [
    {
     "data": {
      "text/plain": [
       "        sin.(aisle) |         cos.(aisle) | sin.(aisle) .> cos.(aisle)\n",
       "--------------------|---------------------|---------------------------\n",
       " 0.6569865987187891 |  0.7539022543433046 |                      false\n",
       " 0.9092974268256817 | -0.4161468365471424 |                       true\n",
       " 0.9092974268256817 | -0.4161468365471424 |                       true\n",
       "-0.5365729180004349 |  0.8438539587324921 |                      false\n",
       " 0.9092974268256817 | -0.4161468365471424 |                       true\n",
       "-0.7568024953079282 | -0.6536436208636119 |                      false\n"
      ]
     },
     "execution_count": 11,
     "metadata": {},
     "output_type": "execute_result"
    }
   ],
   "source": [
    "@SELECT sin.(aisle), cos.(aisle), sin.(aisle) .> cos.(aisle) @FROM groceries"
   ]
  },
  {
   "cell_type": "markdown",
   "metadata": {},
   "source": [
    "Or all the items with chocolate?"
   ]
  },
  {
   "cell_type": "code",
   "execution_count": 12,
   "metadata": {},
   "outputs": [
    {
     "data": {
      "text/plain": [
       "               name | id\n",
       "--------------------|---\n",
       "Dark Chocolate Bars |  3\n",
       "    Chocolate syrup |  6\n"
      ]
     },
     "execution_count": 12,
     "metadata": {},
     "output_type": "execute_result"
    }
   ],
   "source": [
    "@SELECT name, id @FROM groceries @WHERE occursin.(\"Chocolate\", name)"
   ]
  },
  {
   "cell_type": "markdown",
   "metadata": {},
   "source": [
    "And since these are just normal julia expressions, you can interpolate values into them too:"
   ]
  },
  {
   "cell_type": "code",
   "execution_count": 13,
   "metadata": {
    "scrolled": true
   },
   "outputs": [
    {
     "data": {
      "text/plain": [
       "               name | quantity | [2.5, 4.25] .* quantity\n",
       "--------------------|----------|------------------------\n",
       "Dark Chocolate Bars |        2 |                     5.0\n",
       "    Chocolate syrup |        1 |                    4.25\n"
      ]
     },
     "execution_count": 13,
     "metadata": {},
     "output_type": "execute_result"
    }
   ],
   "source": [
    "prices = [2.50, 4.25]  # This is the kind of thing you might normally use a JOIN for.\n",
    "@SELECT name, quantity, $prices .* quantity @FROM groceries @WHERE occursin.(\"Chocolate\", name)"
   ]
  },
  {
   "cell_type": "markdown",
   "metadata": {},
   "source": [
    "The way this works, is that `@SELECT` macro passes those query parameters to the `select_from` function as `Expr`s ([here](https://github.com/NHDaly/SimpleSQL/blob/3a89a84843d3da360337358e48b76b512fbce922/src/SimpleSQL.jl#L334)).\n",
    "\n",
    "Then, before it actually _evaluates_ each expression (`:(sin.(aisle))` for example), it does two things:\n",
    " 1. It digs into the expression to find the column name as a Symbol (`:aisle`).\n",
    " 2. Then it goes and gets that column from the table (via another `select_from` call) and replaces the column name with its value: `:(sin.([7; 2; 2; 12; 2; 4]))`.\n",
    "\n",
    "Now we can let julia evaluate that, and return it as a column. Isn't that cool?\n",
    "\n",
    "Imagine trying to do something like this in `C++`... 🤢"
   ]
  },
  {
   "cell_type": "markdown",
   "metadata": {},
   "source": [
    "As a result, we even get _control flow_ within our queries, for free, even if it is ugly..."
   ]
  },
  {
   "cell_type": "code",
   "execution_count": 14,
   "metadata": {},
   "outputs": [
    {
     "data": {
      "text/plain": [
       "if sum(quantity) > 10\n",
       "    #= In[14]:1 =#\n",
       "    [\"big...\"]\n",
       "else\n",
       "    #= In[14]:1 =#\n",
       "    sum(quantity)\n",
       "end | aisle\n",
       "------------------------------------------------------------------------------------------------------|------\n",
       "                                                                                               big... |     7\n",
       "                                                                                                    1 |     2\n",
       "                                                                                                    1 |    12\n",
       "                                                                                                    1 |     4\n"
      ]
     },
     "execution_count": 14,
     "metadata": {},
     "output_type": "execute_result"
    }
   ],
   "source": [
    "@SELECT if (sum(quantity) > 10); [\"big...\"]; else sum(quantity) end, aisle @FROM groceries @GROUP @BY aisle"
   ]
  },
  {
   "cell_type": "markdown",
   "metadata": {},
   "source": [
    "----------------------------------\n",
    "\n",
    "This was just a fun way to spend a few afternoons, mostly just to try to solidify my understanding of what SQL is _doing_ under the hood.\n",
    "\n",
    "It's still definitely lacking in a bunch of ways, but it's neat nonetheless! One thing I was considering is whether I should be adding `@.` to all the expressions by default so you don't have to keep broadcasting everything above, but I left it out to be more explicit."
   ]
  },
  {
   "cell_type": "markdown",
   "metadata": {},
   "source": [
    "Sadly, I didn't implement `JOIN`. I think it wouldn't be very difficult, but I got tired of refactoring my `select_from` function every time I wanted to merge-in another bit of functionality. :]\n",
    "\n",
    "In theory, though, a naive implementation would be something like creating new column-vectors for each column that comes out of your select statments, which are the Cartesian Product (`×`) of those columns from each table, and then doing your `group by`, `on` and `where` over those.\n",
    "\n",
    "There's probably lots of SQL stuff I didn't implement, but here are some I thought about doing:\n",
    "\n",
    "- `JOIN`s\n",
    "- `AUTOINCREMENT PRIMARY KEY`\n",
    "- `AS`\n",
    "- lowercase letterred macros.. lol\n",
    "- specifying only _some_ of the values for `INSERT`."
   ]
  },
  {
   "cell_type": "markdown",
   "metadata": {},
   "source": [
    "---------------------\n",
    "\n",
    "BUT, fret not! The julia community is full of so many smart people, that _of course_ other people have already created several awesome packages which do the same sorts of things!\n",
    "\n",
    "Allow me to take a moment to introduce... [`Query.jl`](https://github.com/queryverse/Query.jl)!\n",
    "\n",
    "[David Anthoff](https://github.com/davidanthoff) has really done same amazing work for the data scene in julia, and this is just one awesome example.\n",
    "\n",
    "`Query.jl` let's you query over just about any type of data with this familiar sort of syntax.\n",
    "\n",
    "```julia\n",
    "julia> using Query, DataFrames\n",
    "\n",
    "julia> df = DataFrame(name=[\"John\", \"Sally\", \"Kirk\"], age=[23., 42., 59.], children=[3,5,2])\n",
    "\n",
    "julia> x = @from i in df begin\n",
    "           @where i.age>50\n",
    "           @select {i.name, i.children}\n",
    "           @collect DataFrame\n",
    "       end\n",
    ">> 1×2 DataFrames.DataFrame\n",
    "│ Row │ name   │ children │\n",
    "├─────┼────────┼──────────┤\n",
    "│ 1   │ \"Kirk\" │ 2        │\n",
    "```\n",
    "\n",
    "Looks familiar, right? It's really neat. In fact, more broadly, this idea of adding an SQL-inspired syntax for querying _any_ datasource (not just an SQL table) comes from [Microsoft's LINQ](https://msdn.microsoft.com/en-us/library/bb308959.aspx), which added this feature to `C#` more than 10 years ago.\n",
    "\n",
    "The neat thing about julia's metaprogramming capabilities is that this same concept can be added to Julia via user-space _packages_, rather than needing to be a core part of the language."
   ]
  },
  {
   "cell_type": "markdown",
   "metadata": {
    "slideshow": {
     "slide_type": "subslide"
    }
   },
   "source": [
    "Another approach is in [MySQL.jl](https://github.com/JuliaDatabases/MySQL.jl) which allows you to simply communicate with a running MySQL server directly:\n",
    "\n",
    "```julia\n",
    "using MySQL\n",
    "using DataFrames\n",
    "\n",
    "conn = MySQL.connect(\"localhost\", \"root\", \"password\", db = \"test_db\")\n",
    "\n",
    "foo = MySQL.query(conn, \"\"\"SELECT COUNT(*) FROM my_first_table;\"\"\", DataFrame)\n",
    "num_foo = foo[1,1]\n",
    "```\n"
   ]
  },
  {
   "cell_type": "markdown",
   "metadata": {},
   "source": [
    "There are a bunch of other data querying packages in julia, as well, all exploring this concept and taking it in different directions. One example: `Query.jl`, mentioned above, now lets you mix these query operation concepts into normal code as standalone functions, e.g. `peraisle = @groupby(df, _.aisle)`."
   ]
  },
  {
   "cell_type": "markdown",
   "metadata": {},
   "source": [
    "---------------------\n",
    "\n",
    "Finally, also, it's worth noting that I haven't really thought about performance at all. From what I've read, I think most SQL implementations work by first creating a query plan which takes into account the entire query, and then execute it.\n",
    "\n",
    "In contrast, what I've done here sort of does each step as it reads it, which can result in extra work being done than is needed.\n",
    "\n",
    "I think it's probably more appropriate to call this an SQL intepreter, rather than a proper implementation, since it's evaluating these query statements directly, rather than compiling them into a more appropriate representation (query plan) and running that in the traditional way. But I dunno, those are blurry words in this context, I think."
   ]
  },
  {
   "cell_type": "markdown",
   "metadata": {},
   "source": [
    "Hopefully you enjoyed this post! I enjoyed learning more about SQL and practicing metaprogramming in the process! It was lots of fun, and actually, relatively easy!"
   ]
  }
 ],
 "metadata": {
  "kernelspec": {
   "display_name": "Julia 0.7.0",
   "language": "julia",
   "name": "julia-0.7"
  },
  "language_info": {
   "file_extension": ".jl",
   "mimetype": "application/julia",
   "name": "julia",
   "version": "0.7.0"
  }
 },
 "nbformat": 4,
 "nbformat_minor": 2
}
